{
  "nbformat": 4,
  "nbformat_minor": 0,
  "metadata": {
    "colab": {
      "name": "CNN+FCN for image classification.ipynb",
      "provenance": [],
      "mount_file_id": "17Uq1uuk7EoguAxWGzQdcoHWkxU48K8oH",
      "authorship_tag": "ABX9TyOW8vdtNgrFkoh7sXQx26HV",
      "include_colab_link": true
    },
    "kernelspec": {
      "name": "python3",
      "display_name": "Python 3"
    }
  },
  "cells": [
    {
      "cell_type": "markdown",
      "metadata": {
        "id": "view-in-github",
        "colab_type": "text"
      },
      "source": [
        "<a href=\"https://colab.research.google.com/github/nabilaalifia/CNN-FCN-for-image-classification/blob/main/CNN%2BFCN_for_image_classification.ipynb\" target=\"_parent\"><img src=\"https://colab.research.google.com/assets/colab-badge.svg\" alt=\"Open In Colab\"/></a>"
      ]
    },
    {
      "cell_type": "code",
      "metadata": {
        "id": "IwuUXH3o3Wkx",
        "colab": {
          "base_uri": "https://localhost:8080/"
        },
        "outputId": "131d5423-2ce9-4e19-ee25-8ce815e894b6"
      },
      "source": [
        "from google.colab import drive\n",
        "drive.mount('/content/drive')"
      ],
      "execution_count": 1,
      "outputs": [
        {
          "output_type": "stream",
          "text": [
            "Drive already mounted at /content/drive; to attempt to forcibly remount, call drive.mount(\"/content/drive\", force_remount=True).\n"
          ],
          "name": "stdout"
        }
      ]
    },
    {
      "cell_type": "code",
      "metadata": {
        "id": "uu5P3ulC3Ydi",
        "colab": {
          "base_uri": "https://localhost:8080/"
        },
        "outputId": "6aa4f56d-a9d6-492d-8aa8-f9bad4e4d3f8"
      },
      "source": [
        "cd /content/drive/MyDrive/Colab Notebooks/Daun"
      ],
      "execution_count": 3,
      "outputs": [
        {
          "output_type": "stream",
          "text": [
            "/content/drive/.shortcut-targets-by-id/750/Daun\n"
          ],
          "name": "stdout"
        }
      ]
    },
    {
      "cell_type": "code",
      "metadata": {
        "colab": {
          "base_uri": "https://localhost:8080/"
        },
        "id": "wIWgixtpVMSv",
        "outputId": "78e8c6d6-a713-4825-bc8f-e488fddcfcf5"
      },
      "source": [
        "ls\n"
      ],
      "execution_count": 4,
      "outputs": [
        {
          "output_type": "stream",
          "text": [
            "\u001b[0m\u001b[01;34mGMB_01\u001b[0m/  \u001b[01;34mGMB_03\u001b[0m/  \u001b[01;34mGMB_05\u001b[0m/  \u001b[01;34mGMB_07\u001b[0m/  \u001b[01;34mGMB_09\u001b[0m/\n"
          ],
          "name": "stdout"
        }
      ]
    },
    {
      "cell_type": "code",
      "metadata": {
        "id": "HbbRbPG2VVym"
      },
      "source": [
        "# import the necessary packages\n",
        "from keras.models import Sequential\n",
        "from keras.layers.core import Activation\n",
        "from keras.layers.core import Flatten\n",
        "from keras.layers.core import Dense\n",
        "from keras.optimizers import Adam\n",
        "from sklearn.preprocessing import LabelBinarizer\n",
        "from sklearn.model_selection import train_test_split\n",
        "from sklearn.metrics import classification_report\n",
        "from PIL import Image\n",
        "from imutils import paths\n",
        "import numpy as np\n",
        "import os"
      ],
      "execution_count": 5,
      "outputs": []
    },
    {
      "cell_type": "code",
      "metadata": {
        "colab": {
          "base_uri": "https://localhost:8080/"
        },
        "id": "eppShe6JVZfW",
        "outputId": "97552615-3962-4f33-e304-460c2228aeaf"
      },
      "source": [
        "# grab all image paths in the input dataset directory, then initialize\n",
        "# our list of images and corresponding class labels\n",
        "print(\"wait for loading images.......\")\n",
        "imagePaths = paths.list_images(\"/content/drive/MyDrive/Colab Notebooks/Daun\")\n",
        "data = []\n",
        "labels = []"
      ],
      "execution_count": 9,
      "outputs": [
        {
          "output_type": "stream",
          "text": [
            "wait for loading images.......\n"
          ],
          "name": "stdout"
        }
      ]
    },
    {
      "cell_type": "code",
      "metadata": {
        "id": "Us9yJWY9Vc8N"
      },
      "source": [
        "# loop over the input images\n",
        "for imagePath in imagePaths:\n",
        "\t# load the input image from disk, resize it to 32x32 pixels, \n",
        "  # scale the pixel intensities to the range [0, 1], \n",
        "\t# and then update the images list\n",
        "\timage = Image.open(imagePath)\n",
        "  #preprocessing\n",
        "\timage = np.array(image.resize((32, 32))) / 255.0 #normalization\n",
        "\tdata.append(image)\n",
        "\n",
        "\t# extract the class label from the file path and update the\n",
        "\t# labels list\n",
        "\tlabel = imagePath.split(os.path.sep)[-2]\n",
        "\tlabels.append(label)"
      ],
      "execution_count": 10,
      "outputs": []
    },
    {
      "cell_type": "code",
      "metadata": {
        "colab": {
          "base_uri": "https://localhost:8080/"
        },
        "id": "G0M0XxgDVgMt",
        "outputId": "22a7ed4b-9dc2-4a1c-ad4c-3f4d67713fb8"
      },
      "source": [
        "print(labels)"
      ],
      "execution_count": 11,
      "outputs": [
        {
          "output_type": "stream",
          "text": [
            "['GMB_01', 'GMB_01', 'GMB_01', 'GMB_01', 'GMB_01', 'GMB_01', 'GMB_01', 'GMB_01', 'GMB_01', 'GMB_01', 'GMB_01', 'GMB_01', 'GMB_01', 'GMB_01', 'GMB_01', 'GMB_01', 'GMB_01', 'GMB_01', 'GMB_01', 'GMB_01', 'GMB_01', 'GMB_01', 'GMB_01', 'GMB_01', 'GMB_01', 'GMB_01', 'GMB_01', 'GMB_01', 'GMB_01', 'GMB_01', 'GMB_01', 'GMB_01', 'GMB_01', 'GMB_01', 'GMB_01', 'GMB_01', 'GMB_01', 'GMB_01', 'GMB_01', 'GMB_01', 'GMB_01', 'GMB_01', 'GMB_01', 'GMB_01', 'GMB_01', 'GMB_01', 'GMB_01', 'GMB_01', 'GMB_01', 'GMB_01', 'GMB_01', 'GMB_01', 'GMB_01', 'GMB_01', 'GMB_01', 'GMB_01', 'GMB_01', 'GMB_01', 'GMB_01', 'GMB_01', 'GMB_01', 'GMB_01', 'GMB_01', 'GMB_01', 'GMB_01', 'GMB_01', 'GMB_01', 'GMB_01', 'GMB_01', 'GMB_01', 'GMB_01', 'GMB_01', 'GMB_01', 'GMB_01', 'GMB_01', 'GMB_01', 'GMB_01', 'GMB_01', 'GMB_01', 'GMB_01', 'GMB_01', 'GMB_01', 'GMB_01', 'GMB_01', 'GMB_01', 'GMB_01', 'GMB_01', 'GMB_01', 'GMB_01', 'GMB_01', 'GMB_01', 'GMB_01', 'GMB_01', 'GMB_01', 'GMB_01', 'GMB_01', 'GMB_01', 'GMB_01', 'GMB_01', 'GMB_01', 'GMB_01', 'GMB_01', 'GMB_01', 'GMB_01', 'GMB_01', 'GMB_01', 'GMB_01', 'GMB_01', 'GMB_01', 'GMB_01', 'GMB_01', 'GMB_01', 'GMB_01', 'GMB_01', 'GMB_01', 'GMB_01', 'GMB_09', 'GMB_09', 'GMB_09', 'GMB_09', 'GMB_09', 'GMB_09', 'GMB_09', 'GMB_09', 'GMB_09', 'GMB_09', 'GMB_09', 'GMB_09', 'GMB_09', 'GMB_09', 'GMB_09', 'GMB_09', 'GMB_09', 'GMB_09', 'GMB_09', 'GMB_09', 'GMB_09', 'GMB_09', 'GMB_09', 'GMB_09', 'GMB_09', 'GMB_09', 'GMB_09', 'GMB_09', 'GMB_09', 'GMB_09', 'GMB_09', 'GMB_09', 'GMB_09', 'GMB_09', 'GMB_09', 'GMB_09', 'GMB_09', 'GMB_09', 'GMB_09', 'GMB_09', 'GMB_09', 'GMB_09', 'GMB_09', 'GMB_09', 'GMB_09', 'GMB_09', 'GMB_09', 'GMB_09', 'GMB_09', 'GMB_09', 'GMB_09', 'GMB_09', 'GMB_09', 'GMB_09', 'GMB_09', 'GMB_09', 'GMB_09', 'GMB_09', 'GMB_09', 'GMB_09', 'GMB_09', 'GMB_09', 'GMB_09', 'GMB_09', 'GMB_09', 'GMB_09', 'GMB_09', 'GMB_09', 'GMB_09', 'GMB_09', 'GMB_09', 'GMB_09', 'GMB_09', 'GMB_09', 'GMB_09', 'GMB_09', 'GMB_09', 'GMB_09', 'GMB_09', 'GMB_09', 'GMB_09', 'GMB_09', 'GMB_09', 'GMB_09', 'GMB_09', 'GMB_09', 'GMB_09', 'GMB_09', 'GMB_09', 'GMB_09', 'GMB_09', 'GMB_09', 'GMB_09', 'GMB_09', 'GMB_09', 'GMB_09', 'GMB_09', 'GMB_09', 'GMB_09', 'GMB_09', 'GMB_09', 'GMB_09', 'GMB_09', 'GMB_09', 'GMB_09', 'GMB_09', 'GMB_09', 'GMB_09', 'GMB_09', 'GMB_09', 'GMB_09', 'GMB_09', 'GMB_09', 'GMB_09', 'GMB_09', 'GMB_05', 'GMB_05', 'GMB_05', 'GMB_05', 'GMB_05', 'GMB_05', 'GMB_05', 'GMB_05', 'GMB_05', 'GMB_05', 'GMB_05', 'GMB_05', 'GMB_05', 'GMB_05', 'GMB_05', 'GMB_05', 'GMB_05', 'GMB_05', 'GMB_05', 'GMB_05', 'GMB_05', 'GMB_05', 'GMB_05', 'GMB_05', 'GMB_05', 'GMB_05', 'GMB_05', 'GMB_05', 'GMB_05', 'GMB_05', 'GMB_05', 'GMB_05', 'GMB_05', 'GMB_05', 'GMB_05', 'GMB_05', 'GMB_05', 'GMB_05', 'GMB_05', 'GMB_05', 'GMB_05', 'GMB_05', 'GMB_05', 'GMB_05', 'GMB_05', 'GMB_05', 'GMB_05', 'GMB_05', 'GMB_05', 'GMB_05', 'GMB_05', 'GMB_05', 'GMB_05', 'GMB_05', 'GMB_05', 'GMB_05', 'GMB_05', 'GMB_05', 'GMB_05', 'GMB_05', 'GMB_05', 'GMB_05', 'GMB_05', 'GMB_05', 'GMB_05', 'GMB_05', 'GMB_05', 'GMB_05', 'GMB_05', 'GMB_05', 'GMB_05', 'GMB_05', 'GMB_05', 'GMB_05', 'GMB_05', 'GMB_05', 'GMB_05', 'GMB_05', 'GMB_05', 'GMB_05', 'GMB_05', 'GMB_05', 'GMB_05', 'GMB_05', 'GMB_05', 'GMB_05', 'GMB_05', 'GMB_05', 'GMB_05', 'GMB_05', 'GMB_05', 'GMB_05', 'GMB_05', 'GMB_05', 'GMB_05', 'GMB_05', 'GMB_05', 'GMB_05', 'GMB_05', 'GMB_05', 'GMB_05', 'GMB_05', 'GMB_05', 'GMB_05', 'GMB_05', 'GMB_05', 'GMB_05', 'GMB_05', 'GMB_05', 'GMB_05', 'GMB_05', 'GMB_05', 'GMB_05', 'GMB_05', 'GMB_05', 'GMB_05', 'GMB_05', 'GMB_05', 'GMB_05', 'GMB_05', 'GMB_05', 'GMB_03', 'GMB_03', 'GMB_03', 'GMB_03', 'GMB_03', 'GMB_03', 'GMB_03', 'GMB_03', 'GMB_03', 'GMB_03', 'GMB_03', 'GMB_03', 'GMB_03', 'GMB_03', 'GMB_03', 'GMB_03', 'GMB_03', 'GMB_03', 'GMB_03', 'GMB_03', 'GMB_03', 'GMB_03', 'GMB_03', 'GMB_03', 'GMB_03', 'GMB_03', 'GMB_03', 'GMB_03', 'GMB_03', 'GMB_03', 'GMB_03', 'GMB_03', 'GMB_03', 'GMB_03', 'GMB_03', 'GMB_03', 'GMB_03', 'GMB_03', 'GMB_03', 'GMB_03', 'GMB_03', 'GMB_03', 'GMB_03', 'GMB_03', 'GMB_03', 'GMB_03', 'GMB_03', 'GMB_03', 'GMB_03', 'GMB_03', 'GMB_03', 'GMB_03', 'GMB_03', 'GMB_03', 'GMB_03', 'GMB_03', 'GMB_03', 'GMB_03', 'GMB_03', 'GMB_03', 'GMB_03', 'GMB_03', 'GMB_03', 'GMB_03', 'GMB_03', 'GMB_03', 'GMB_03', 'GMB_03', 'GMB_03', 'GMB_03', 'GMB_03', 'GMB_03', 'GMB_03', 'GMB_03', 'GMB_03', 'GMB_03', 'GMB_03', 'GMB_03', 'GMB_03', 'GMB_03', 'GMB_03', 'GMB_03', 'GMB_03', 'GMB_03', 'GMB_03', 'GMB_03', 'GMB_03', 'GMB_03', 'GMB_03', 'GMB_03', 'GMB_03', 'GMB_03', 'GMB_03', 'GMB_03', 'GMB_03', 'GMB_03', 'GMB_03', 'GMB_03', 'GMB_03', 'GMB_03', 'GMB_03', 'GMB_03', 'GMB_03', 'GMB_03', 'GMB_03', 'GMB_03', 'GMB_03', 'GMB_03', 'GMB_03', 'GMB_03', 'GMB_03', 'GMB_03', 'GMB_07', 'GMB_07', 'GMB_07', 'GMB_07', 'GMB_07', 'GMB_07', 'GMB_07', 'GMB_07', 'GMB_07', 'GMB_07', 'GMB_07', 'GMB_07', 'GMB_07', 'GMB_07', 'GMB_07', 'GMB_07', 'GMB_07', 'GMB_07', 'GMB_07', 'GMB_07', 'GMB_07', 'GMB_07', 'GMB_07', 'GMB_07', 'GMB_07', 'GMB_07', 'GMB_07', 'GMB_07', 'GMB_07', 'GMB_07', 'GMB_07', 'GMB_07', 'GMB_07', 'GMB_07', 'GMB_07', 'GMB_07', 'GMB_07', 'GMB_07', 'GMB_07', 'GMB_07', 'GMB_07', 'GMB_07', 'GMB_07', 'GMB_07', 'GMB_07', 'GMB_07', 'GMB_07', 'GMB_07', 'GMB_07', 'GMB_07', 'GMB_07', 'GMB_07', 'GMB_07', 'GMB_07', 'GMB_07', 'GMB_07', 'GMB_07', 'GMB_07', 'GMB_07', 'GMB_07', 'GMB_07', 'GMB_07', 'GMB_07', 'GMB_07', 'GMB_07', 'GMB_07', 'GMB_07', 'GMB_07', 'GMB_07', 'GMB_07', 'GMB_07', 'GMB_07', 'GMB_07', 'GMB_07', 'GMB_07', 'GMB_07', 'GMB_07', 'GMB_07', 'GMB_07', 'GMB_07', 'GMB_07', 'GMB_07', 'GMB_07', 'GMB_07', 'GMB_07', 'GMB_07', 'GMB_07', 'GMB_07', 'GMB_07', 'GMB_07', 'GMB_07', 'GMB_07', 'GMB_07', 'GMB_07', 'GMB_07', 'GMB_07', 'GMB_07', 'GMB_07', 'GMB_07', 'GMB_07', 'GMB_07', 'GMB_07', 'GMB_07', 'GMB_07', 'GMB_07', 'GMB_07', 'GMB_07', 'GMB_07', 'GMB_07', 'GMB_07', 'GMB_07', 'GMB_07', 'GMB_07', 'GMB_07', 'GMB_07', 'GMB_07', 'GMB_07', 'GMB_07', 'GMB_07', 'GMB_07', 'GMB_07']\n"
          ],
          "name": "stdout"
        }
      ]
    },
    {
      "cell_type": "code",
      "metadata": {
        "colab": {
          "base_uri": "https://localhost:8080/"
        },
        "id": "waVO1D7qVjHW",
        "outputId": "159e82af-bbab-4c57-9ae6-804d86224485"
      },
      "source": [
        "# encode the labels, converting them from strings to integers\n",
        "lb = LabelBinarizer()\n",
        "labels = lb.fit_transform(labels)\n",
        "print(labels)"
      ],
      "execution_count": 12,
      "outputs": [
        {
          "output_type": "stream",
          "text": [
            "[[1 0 0 0 0]\n",
            " [1 0 0 0 0]\n",
            " [1 0 0 0 0]\n",
            " ...\n",
            " [0 0 0 1 0]\n",
            " [0 0 0 1 0]\n",
            " [0 0 0 1 0]]\n"
          ],
          "name": "stdout"
        }
      ]
    },
    {
      "cell_type": "code",
      "metadata": {
        "colab": {
          "base_uri": "https://localhost:8080/"
        },
        "id": "fxUJHenbVr_P",
        "outputId": "be7e5017-acf1-4e7b-a3f5-63a3cc30d309"
      },
      "source": [
        "# perform a training and testing split, using 85% of the data for\n",
        "# using 85% of the data for training and 15% for evaluation\n",
        "(trainX, testX, trainY, testY) = train_test_split(np.array(data),\tnp.array(labels), test_size=0.15, shuffle=True)\n",
        "print(trainX.shape)\n",
        "print(testX.shape)"
      ],
      "execution_count": 13,
      "outputs": [
        {
          "output_type": "stream",
          "text": [
            "(497, 32, 32, 3)\n",
            "(88, 32, 32, 3)\n"
          ],
          "name": "stdout"
        }
      ]
    },
    {
      "cell_type": "code",
      "metadata": {
        "colab": {
          "base_uri": "https://localhost:8080/"
        },
        "id": "MKNyokqzVvMo",
        "outputId": "39dba2bf-d868-473f-e479-76ce641935e4"
      },
      "source": [
        "from keras.layers import Convolution2D, MaxPooling2D\n",
        "from keras.models import Sequential\n",
        "from keras.layers.core import Flatten, Dense\n",
        "\n",
        "model1 = Sequential()\n",
        "model1.add(Convolution2D(32, (3,3), activation='relu', input_shape=(32,32,3)))\n",
        "model1.add(MaxPooling2D(4,4))\n",
        "model1.add(Convolution2D(64, (3,3), activation='relu'))\n",
        "model1.add(MaxPooling2D(4,4))\n",
        "#fully connected layer\n",
        "model1.add(Flatten())\n",
        "model1.add(Dense(100, activation='relu'))\n",
        "model1.add(Dense(5, activation='softmax'))\n",
        "model1.summary()"
      ],
      "execution_count": 25,
      "outputs": [
        {
          "output_type": "stream",
          "text": [
            "Model: \"sequential_3\"\n",
            "_________________________________________________________________\n",
            "Layer (type)                 Output Shape              Param #   \n",
            "=================================================================\n",
            "conv2d_6 (Conv2D)            (None, 30, 30, 32)        896       \n",
            "_________________________________________________________________\n",
            "max_pooling2d_6 (MaxPooling2 (None, 7, 7, 32)          0         \n",
            "_________________________________________________________________\n",
            "conv2d_7 (Conv2D)            (None, 5, 5, 64)          18496     \n",
            "_________________________________________________________________\n",
            "max_pooling2d_7 (MaxPooling2 (None, 1, 1, 64)          0         \n",
            "_________________________________________________________________\n",
            "flatten_2 (Flatten)          (None, 64)                0         \n",
            "_________________________________________________________________\n",
            "dense_4 (Dense)              (None, 100)               6500      \n",
            "_________________________________________________________________\n",
            "dense_5 (Dense)              (None, 5)                 505       \n",
            "=================================================================\n",
            "Total params: 26,397\n",
            "Trainable params: 26,397\n",
            "Non-trainable params: 0\n",
            "_________________________________________________________________\n"
          ],
          "name": "stdout"
        }
      ]
    },
    {
      "cell_type": "code",
      "metadata": {
        "colab": {
          "base_uri": "https://localhost:8080/"
        },
        "id": "NXeo3BpHVyFu",
        "outputId": "608af315-99e3-4a28-c1aa-32cdb7f0284d"
      },
      "source": [
        "# train the model using the Adam optimizer\n",
        "\n",
        "opt = Adam(lr=1e-3, decay=1e-3 / 50)\n",
        "model1.compile(loss=\"categorical_crossentropy\", optimizer=opt, metrics=[\"accuracy\"])\n",
        "H = model1.fit(trainX, trainY, validation_data=(testX, testY), epochs=50, batch_size=16)"
      ],
      "execution_count": 21,
      "outputs": [
        {
          "output_type": "stream",
          "text": [
            "Epoch 1/50\n",
            "32/32 [==============================] - 0s 15ms/step - loss: 1.6017 - accuracy: 0.2596 - val_loss: 1.5753 - val_accuracy: 0.2500\n",
            "Epoch 2/50\n",
            "32/32 [==============================] - 0s 11ms/step - loss: 1.5450 - accuracy: 0.3400 - val_loss: 1.5159 - val_accuracy: 0.3977\n",
            "Epoch 3/50\n",
            "32/32 [==============================] - 0s 11ms/step - loss: 1.3887 - accuracy: 0.4628 - val_loss: 1.3628 - val_accuracy: 0.3977\n",
            "Epoch 4/50\n",
            "32/32 [==============================] - 0s 11ms/step - loss: 1.1893 - accuracy: 0.5070 - val_loss: 1.2131 - val_accuracy: 0.4545\n",
            "Epoch 5/50\n",
            "32/32 [==============================] - 0s 11ms/step - loss: 1.0579 - accuracy: 0.5936 - val_loss: 1.0994 - val_accuracy: 0.5000\n",
            "Epoch 6/50\n",
            "32/32 [==============================] - 0s 11ms/step - loss: 0.9770 - accuracy: 0.6117 - val_loss: 0.9993 - val_accuracy: 0.5909\n",
            "Epoch 7/50\n",
            "32/32 [==============================] - 0s 11ms/step - loss: 0.9197 - accuracy: 0.6479 - val_loss: 1.0394 - val_accuracy: 0.5682\n",
            "Epoch 8/50\n",
            "32/32 [==============================] - 0s 12ms/step - loss: 0.8864 - accuracy: 0.6740 - val_loss: 1.0268 - val_accuracy: 0.5227\n",
            "Epoch 9/50\n",
            "32/32 [==============================] - 0s 12ms/step - loss: 0.8817 - accuracy: 0.6499 - val_loss: 0.8722 - val_accuracy: 0.6364\n",
            "Epoch 10/50\n",
            "32/32 [==============================] - 0s 11ms/step - loss: 0.7967 - accuracy: 0.7082 - val_loss: 0.8503 - val_accuracy: 0.6932\n",
            "Epoch 11/50\n",
            "32/32 [==============================] - 0s 12ms/step - loss: 0.7345 - accuracy: 0.7304 - val_loss: 0.7694 - val_accuracy: 0.7386\n",
            "Epoch 12/50\n",
            "32/32 [==============================] - 0s 11ms/step - loss: 0.7500 - accuracy: 0.7002 - val_loss: 0.7976 - val_accuracy: 0.6818\n",
            "Epoch 13/50\n",
            "32/32 [==============================] - 0s 12ms/step - loss: 0.6661 - accuracy: 0.7706 - val_loss: 0.6915 - val_accuracy: 0.7727\n",
            "Epoch 14/50\n",
            "32/32 [==============================] - 0s 11ms/step - loss: 0.5933 - accuracy: 0.8028 - val_loss: 0.6610 - val_accuracy: 0.7841\n",
            "Epoch 15/50\n",
            "32/32 [==============================] - 0s 11ms/step - loss: 0.5926 - accuracy: 0.7928 - val_loss: 0.7385 - val_accuracy: 0.7614\n",
            "Epoch 16/50\n",
            "32/32 [==============================] - 0s 11ms/step - loss: 0.5771 - accuracy: 0.7907 - val_loss: 0.6420 - val_accuracy: 0.7955\n",
            "Epoch 17/50\n",
            "32/32 [==============================] - 0s 11ms/step - loss: 0.5248 - accuracy: 0.7988 - val_loss: 0.7021 - val_accuracy: 0.7273\n",
            "Epoch 18/50\n",
            "32/32 [==============================] - 0s 12ms/step - loss: 0.4805 - accuracy: 0.8471 - val_loss: 0.5935 - val_accuracy: 0.7727\n",
            "Epoch 19/50\n",
            "32/32 [==============================] - 0s 11ms/step - loss: 0.4534 - accuracy: 0.8350 - val_loss: 0.8543 - val_accuracy: 0.6705\n",
            "Epoch 20/50\n",
            "32/32 [==============================] - 0s 11ms/step - loss: 0.4861 - accuracy: 0.8149 - val_loss: 0.5648 - val_accuracy: 0.8295\n",
            "Epoch 21/50\n",
            "32/32 [==============================] - 0s 11ms/step - loss: 0.4284 - accuracy: 0.8511 - val_loss: 0.5047 - val_accuracy: 0.8295\n",
            "Epoch 22/50\n",
            "32/32 [==============================] - 0s 11ms/step - loss: 0.4056 - accuracy: 0.8652 - val_loss: 0.5098 - val_accuracy: 0.8409\n",
            "Epoch 23/50\n",
            "32/32 [==============================] - 0s 11ms/step - loss: 0.4776 - accuracy: 0.8290 - val_loss: 0.6460 - val_accuracy: 0.7841\n",
            "Epoch 24/50\n",
            "32/32 [==============================] - 0s 11ms/step - loss: 0.3858 - accuracy: 0.8632 - val_loss: 0.5692 - val_accuracy: 0.8295\n",
            "Epoch 25/50\n",
            "32/32 [==============================] - 0s 11ms/step - loss: 0.3969 - accuracy: 0.8672 - val_loss: 0.4942 - val_accuracy: 0.8864\n",
            "Epoch 26/50\n",
            "32/32 [==============================] - 0s 12ms/step - loss: 0.3586 - accuracy: 0.8833 - val_loss: 0.4969 - val_accuracy: 0.8864\n",
            "Epoch 27/50\n",
            "32/32 [==============================] - 0s 12ms/step - loss: 0.3216 - accuracy: 0.8974 - val_loss: 0.4911 - val_accuracy: 0.7955\n",
            "Epoch 28/50\n",
            "32/32 [==============================] - 0s 12ms/step - loss: 0.3211 - accuracy: 0.8873 - val_loss: 0.4843 - val_accuracy: 0.8068\n",
            "Epoch 29/50\n",
            "32/32 [==============================] - 0s 12ms/step - loss: 0.5761 - accuracy: 0.7867 - val_loss: 0.5689 - val_accuracy: 0.7727\n",
            "Epoch 30/50\n",
            "32/32 [==============================] - 0s 11ms/step - loss: 0.3570 - accuracy: 0.8853 - val_loss: 0.4513 - val_accuracy: 0.8864\n",
            "Epoch 31/50\n",
            "32/32 [==============================] - 0s 12ms/step - loss: 0.2735 - accuracy: 0.9235 - val_loss: 0.4632 - val_accuracy: 0.8295\n",
            "Epoch 32/50\n",
            "32/32 [==============================] - 0s 12ms/step - loss: 0.2507 - accuracy: 0.9276 - val_loss: 0.4902 - val_accuracy: 0.8523\n",
            "Epoch 33/50\n",
            "32/32 [==============================] - 0s 12ms/step - loss: 0.2341 - accuracy: 0.9316 - val_loss: 0.4409 - val_accuracy: 0.8295\n",
            "Epoch 34/50\n",
            "32/32 [==============================] - 0s 13ms/step - loss: 0.2271 - accuracy: 0.9296 - val_loss: 0.4184 - val_accuracy: 0.8409\n",
            "Epoch 35/50\n",
            "32/32 [==============================] - 0s 12ms/step - loss: 0.2045 - accuracy: 0.9356 - val_loss: 0.4577 - val_accuracy: 0.8409\n",
            "Epoch 36/50\n",
            "32/32 [==============================] - 0s 13ms/step - loss: 0.1944 - accuracy: 0.9437 - val_loss: 0.4277 - val_accuracy: 0.8977\n",
            "Epoch 37/50\n",
            "32/32 [==============================] - 0s 12ms/step - loss: 0.1966 - accuracy: 0.9276 - val_loss: 0.4215 - val_accuracy: 0.8636\n",
            "Epoch 38/50\n",
            "32/32 [==============================] - 0s 11ms/step - loss: 0.1776 - accuracy: 0.9497 - val_loss: 0.4259 - val_accuracy: 0.8864\n",
            "Epoch 39/50\n",
            "32/32 [==============================] - 0s 11ms/step - loss: 0.1634 - accuracy: 0.9537 - val_loss: 0.4260 - val_accuracy: 0.8295\n",
            "Epoch 40/50\n",
            "32/32 [==============================] - 0s 11ms/step - loss: 0.1920 - accuracy: 0.9376 - val_loss: 0.4783 - val_accuracy: 0.8068\n",
            "Epoch 41/50\n",
            "32/32 [==============================] - 0s 12ms/step - loss: 0.1915 - accuracy: 0.9416 - val_loss: 0.3812 - val_accuracy: 0.8977\n",
            "Epoch 42/50\n",
            "32/32 [==============================] - 0s 12ms/step - loss: 0.1581 - accuracy: 0.9577 - val_loss: 0.5272 - val_accuracy: 0.8182\n",
            "Epoch 43/50\n",
            "32/32 [==============================] - 0s 11ms/step - loss: 0.1392 - accuracy: 0.9598 - val_loss: 0.3701 - val_accuracy: 0.8864\n",
            "Epoch 44/50\n",
            "32/32 [==============================] - 0s 11ms/step - loss: 0.1419 - accuracy: 0.9618 - val_loss: 0.3657 - val_accuracy: 0.8750\n",
            "Epoch 45/50\n",
            "32/32 [==============================] - 0s 12ms/step - loss: 0.1385 - accuracy: 0.9537 - val_loss: 0.4283 - val_accuracy: 0.8636\n",
            "Epoch 46/50\n",
            "32/32 [==============================] - 0s 11ms/step - loss: 0.2276 - accuracy: 0.9095 - val_loss: 0.4794 - val_accuracy: 0.8523\n",
            "Epoch 47/50\n",
            "32/32 [==============================] - 0s 12ms/step - loss: 0.1278 - accuracy: 0.9658 - val_loss: 0.4132 - val_accuracy: 0.8523\n",
            "Epoch 48/50\n",
            "32/32 [==============================] - 0s 11ms/step - loss: 0.1193 - accuracy: 0.9658 - val_loss: 0.4572 - val_accuracy: 0.8182\n",
            "Epoch 49/50\n",
            "32/32 [==============================] - 0s 11ms/step - loss: 0.1599 - accuracy: 0.9457 - val_loss: 0.4171 - val_accuracy: 0.8409\n",
            "Epoch 50/50\n",
            "32/32 [==============================] - 0s 12ms/step - loss: 0.1083 - accuracy: 0.9718 - val_loss: 0.3567 - val_accuracy: 0.8864\n"
          ],
          "name": "stdout"
        }
      ]
    },
    {
      "cell_type": "code",
      "metadata": {
        "colab": {
          "base_uri": "https://localhost:8080/",
          "height": 590
        },
        "id": "YIW2hq9PV2sA",
        "outputId": "316db402-88f9-4a1b-e832-31721de92bb5"
      },
      "source": [
        "import matplotlib.pyplot as plt\n",
        "\n",
        "print(H.history.keys())\n",
        "# summarize history for accuracy\n",
        "plt.plot(H.history['accuracy'])\n",
        "plt.plot(H.history['val_accuracy'])\n",
        "plt.title('model accuracy')\n",
        "plt.ylabel('accuracy')\n",
        "plt.xlabel('epoch')\n",
        "plt.legend(['train', 'test'], loc='upper left')\n",
        "plt.show()\n",
        "# summarize history for loss\n",
        "plt.plot(H.history['loss'])\n",
        "plt.plot(H.history['val_loss'])\n",
        "plt.title('model loss')\n",
        "plt.ylabel('loss')\n",
        "plt.xlabel('epoch')\n",
        "plt.legend(['train', 'test'], loc='upper left')\n",
        "plt.show()\n"
      ],
      "execution_count": 22,
      "outputs": [
        {
          "output_type": "stream",
          "text": [
            "dict_keys(['loss', 'accuracy', 'val_loss', 'val_accuracy'])\n"
          ],
          "name": "stdout"
        },
        {
          "output_type": "display_data",
          "data": {
            "image/png": "[encoded data removed]",
            "text/plain": [
              "<Figure size 432x288 with 1 Axes>"
            ]
          },
          "metadata": {
            "tags": [],
            "needs_background": "light"
          }
        },
        {
          "output_type": "display_data",
          "data": {
            "image/png": "[encoded data removed]",
            "text/plain": [
              "<Figure size 432x288 with 1 Axes>"
            ]
          },
          "metadata": {
            "tags": [],
            "needs_background": "light"
          }
        }
      ]
    },
    {
      "cell_type": "code",
      "metadata": {
        "colab": {
          "base_uri": "https://localhost:8080/"
        },
        "id": "300CJwbdV5Ou",
        "outputId": "27d045c1-7fe9-4299-a5c8-fd552b74eba5"
      },
      "source": [
        "# evaluate the network\n",
        "print(\"[INFO] evaluating network...\")\n",
        "predictions = model1.predict(testX, batch_size=32)\n",
        "print(classification_report(testY.argmax(axis=1),\n",
        "\tpredictions.argmax(axis=1), target_names=lb.classes_))"
      ],
      "execution_count": 23,
      "outputs": [
        {
          "output_type": "stream",
          "text": [
            "[INFO] evaluating network...\n",
            "              precision    recall  f1-score   support\n",
            "\n",
            "      GMB_01       0.81      0.87      0.84        15\n",
            "      GMB_03       0.91      0.91      0.91        23\n",
            "      GMB_05       0.86      0.92      0.89        13\n",
            "      GMB_07       0.86      0.86      0.86        22\n",
            "      GMB_09       1.00      0.87      0.93        15\n",
            "\n",
            "    accuracy                           0.89        88\n",
            "   macro avg       0.89      0.89      0.89        88\n",
            "weighted avg       0.89      0.89      0.89        88\n",
            "\n"
          ],
          "name": "stdout"
        }
      ]
    },
    {
      "cell_type": "code",
      "metadata": {
        "id": "MSE-LajOY3hu"
      },
      "source": [
        ""
      ],
      "execution_count": null,
      "outputs": []
    }
  ]
}